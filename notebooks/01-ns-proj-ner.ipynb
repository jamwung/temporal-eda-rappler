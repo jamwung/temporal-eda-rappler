{
 "cells": [
  {
   "cell_type": "code",
   "execution_count": 1,
   "id": "9c58bdd1-4d70-4074-bfa2-3d8b7e60397f",
   "metadata": {
    "execution": {
     "iopub.execute_input": "2023-09-23T03:42:06.455669Z",
     "iopub.status.busy": "2023-09-23T03:42:06.454971Z",
     "iopub.status.idle": "2023-09-23T03:42:11.227189Z",
     "shell.execute_reply": "2023-09-23T03:42:11.225966Z",
     "shell.execute_reply.started": "2023-09-23T03:42:06.455608Z"
    },
    "tags": []
   },
   "outputs": [
    {
     "name": "stderr",
     "output_type": "stream",
     "text": [
      "2023-09-23 03:42:08.815196: I tensorflow/core/util/port.cc:110] oneDNN custom operations are on. You may see slightly different numerical results due to floating-point round-off errors from different computation orders. To turn them off, set the environment variable `TF_ENABLE_ONEDNN_OPTS=0`.\n",
      "2023-09-23 03:42:08.873374: I tensorflow/core/platform/cpu_feature_guard.cc:182] This TensorFlow binary is optimized to use available CPU instructions in performance-critical operations.\n",
      "To enable the following instructions: AVX2 AVX512F AVX512_VNNI FMA, in other operations, rebuild TensorFlow with the appropriate compiler flags.\n",
      "2023-09-23 03:42:09.947970: W tensorflow/compiler/tf2tensorrt/utils/py_utils.cc:38] TF-TRT Warning: Could not find TensorRT\n",
      "2023-09-23 03:42:10.787422: E tensorflow/compiler/xla/stream_executor/cuda/cuda_driver.cc:266] failed call to cuInit: CUDA_ERROR_NO_DEVICE: no CUDA-capable device is detected\n",
      "2023-09-23 03:42:10.787461: I tensorflow/compiler/xla/stream_executor/cuda/cuda_diagnostics.cc:168] retrieving CUDA diagnostic information for host: jupyter-jwong\n",
      "2023-09-23 03:42:10.787468: I tensorflow/compiler/xla/stream_executor/cuda/cuda_diagnostics.cc:175] hostname: jupyter-jwong\n",
      "2023-09-23 03:42:10.787552: I tensorflow/compiler/xla/stream_executor/cuda/cuda_diagnostics.cc:199] libcuda reported version is: 515.65.1\n",
      "2023-09-23 03:42:10.787568: I tensorflow/compiler/xla/stream_executor/cuda/cuda_diagnostics.cc:203] kernel reported version is: 515.65.1\n",
      "2023-09-23 03:42:10.787574: I tensorflow/compiler/xla/stream_executor/cuda/cuda_diagnostics.cc:309] kernel version seems to match DSO: 515.65.1\n"
     ]
    }
   ],
   "source": [
    "import pandas as pd\n",
    "import spacy\n",
    "from tqdm.notebook import tqdm\n",
    "import joblib"
   ]
  },
  {
   "cell_type": "code",
   "execution_count": 3,
   "id": "e3cfbea8-58c5-48a2-88d8-4434552dab25",
   "metadata": {
    "execution": {
     "iopub.execute_input": "2023-09-23T03:42:14.290903Z",
     "iopub.status.busy": "2023-09-23T03:42:14.290173Z",
     "iopub.status.idle": "2023-09-23T03:42:14.298097Z",
     "shell.execute_reply": "2023-09-23T03:42:14.296374Z",
     "shell.execute_reply.started": "2023-09-23T03:42:14.290843Z"
    },
    "tags": []
   },
   "outputs": [],
   "source": [
    "df = pd.read_csv('2023-rappler-articles-ns.csv')"
   ]
  },
  {
   "cell_type": "code",
   "execution_count": 10,
   "id": "da477d83-9a0d-4253-b904-3d4a5a0c2827",
   "metadata": {
    "execution": {
     "iopub.execute_input": "2023-08-25T15:40:47.844208Z",
     "iopub.status.busy": "2023-08-25T15:40:47.843423Z",
     "iopub.status.idle": "2023-08-25T15:40:47.849060Z",
     "shell.execute_reply": "2023-08-25T15:40:47.848064Z",
     "shell.execute_reply.started": "2023-08-25T15:40:47.844165Z"
    },
    "tags": []
   },
   "outputs": [],
   "source": [
    "usecols=[\n",
    "    'id',\n",
    "    'date',\n",
    "    'categories',\n",
    "    'authorship',\n",
    "    'tags'\n",
    "]"
   ]
  },
  {
   "cell_type": "code",
   "execution_count": 29,
   "id": "f2d3dbfe-589c-4b9d-bc18-03abb1556ba1",
   "metadata": {
    "execution": {
     "iopub.execute_input": "2023-08-25T15:52:29.072061Z",
     "iopub.status.busy": "2023-08-25T15:52:29.070852Z",
     "iopub.status.idle": "2023-08-25T15:52:30.348470Z",
     "shell.execute_reply": "2023-08-25T15:52:30.347225Z",
     "shell.execute_reply.started": "2023-08-25T15:52:29.071990Z"
    },
    "tags": []
   },
   "outputs": [],
   "source": [
    "nlp = spacy.load(\"en_core_web_sm\")"
   ]
  },
  {
   "cell_type": "code",
   "execution_count": 42,
   "id": "43f4cfe7-7926-4e02-b77a-4a552ac39fd8",
   "metadata": {
    "execution": {
     "iopub.execute_input": "2023-08-25T16:05:43.059271Z",
     "iopub.status.busy": "2023-08-25T16:05:43.057800Z",
     "iopub.status.idle": "2023-08-25T16:13:55.365598Z",
     "shell.execute_reply": "2023-08-25T16:13:55.364566Z",
     "shell.execute_reply.started": "2023-08-25T16:05:43.059168Z"
    },
    "tags": []
   },
   "outputs": [
    {
     "data": {
      "application/vnd.jupyter.widget-view+json": {
       "model_id": "5e58f2368a4f467eb4cc76225a3eb0ce",
       "version_major": 2,
       "version_minor": 0
      },
      "text/plain": [
       "  0%|          | 0/3532 [00:00<?, ?it/s]"
      ]
     },
     "metadata": {},
     "output_type": "display_data"
    }
   ],
   "source": [
    "# CODE TO GET NAMED ENTITIES FOR EACH ARTICLE USING SPACY\n",
    "content_list = df['content.rendered'].tolist()\n",
    "\n",
    "named_entities_list = []\n",
    "for content in tqdm(content_list):\n",
    "    doc = nlp(content)\n",
    "    named_entities = [(ent.text, ent.label_)\n",
    "                      for ent in doc.ents if ent.label_ in ['PERSON', 'ORG']]\n",
    "    named_entities_list.append(named_entities)"
   ]
  },
  {
   "cell_type": "code",
   "execution_count": 40,
   "id": "f404b693-b906-4483-bf3c-4d2b9c42e754",
   "metadata": {
    "execution": {
     "iopub.execute_input": "2023-08-25T16:05:01.422988Z",
     "iopub.status.busy": "2023-08-25T16:05:01.420965Z",
     "iopub.status.idle": "2023-08-25T16:05:02.315256Z",
     "shell.execute_reply": "2023-08-25T16:05:02.314035Z",
     "shell.execute_reply.started": "2023-08-25T16:05:01.422875Z"
    },
    "tags": []
   },
   "outputs": [
    {
     "data": {
      "text/plain": [
       "['named_entities_list.pkl']"
      ]
     },
     "execution_count": 40,
     "metadata": {},
     "output_type": "execute_result"
    }
   ],
   "source": [
    "# joblib.dump(named_entities_list, 'named_entities_list.pkl')"
   ]
  },
  {
   "cell_type": "code",
   "execution_count": 50,
   "id": "8edeb03b-3ac7-4b53-9147-bf54cbec69cb",
   "metadata": {
    "execution": {
     "iopub.execute_input": "2023-08-25T16:17:49.220390Z",
     "iopub.status.busy": "2023-08-25T16:17:49.219164Z",
     "iopub.status.idle": "2023-08-25T16:17:49.241528Z",
     "shell.execute_reply": "2023-08-25T16:17:49.240216Z",
     "shell.execute_reply.started": "2023-08-25T16:17:49.220325Z"
    },
    "tags": []
   },
   "outputs": [
    {
     "data": {
      "text/plain": [
       "3531   2023-05-22 09:20:15\n",
       "3530   2023-05-22 09:21:08\n",
       "3529   2023-05-22 10:13:21\n",
       "3528   2023-05-22 10:35:14\n",
       "3527   2023-05-22 10:53:47\n",
       "               ...        \n",
       "4      2023-07-24 16:34:39\n",
       "3      2023-07-24 16:43:32\n",
       "2      2023-07-24 16:45:38\n",
       "1      2023-07-24 17:23:58\n",
       "0      2023-07-24 17:28:52\n",
       "Name: date, Length: 3532, dtype: datetime64[ns]"
      ]
     },
     "execution_count": 50,
     "metadata": {},
     "output_type": "execute_result"
    }
   ],
   "source": [
    "pd.to_datetime(df.date).sort_values()"
   ]
  },
  {
   "cell_type": "code",
   "execution_count": 60,
   "id": "e92d30d1-6c90-4f09-84ff-29e863638859",
   "metadata": {
    "execution": {
     "iopub.execute_input": "2023-08-25T16:20:53.373882Z",
     "iopub.status.busy": "2023-08-25T16:20:53.373114Z",
     "iopub.status.idle": "2023-08-25T16:20:53.418977Z",
     "shell.execute_reply": "2023-08-25T16:20:53.417823Z",
     "shell.execute_reply.started": "2023-08-25T16:20:53.373818Z"
    },
    "tags": []
   },
   "outputs": [],
   "source": [
    "unique_entities = [set([x[0] for x in y]) for y in named_entities_list]"
   ]
  },
  {
   "cell_type": "code",
   "execution_count": 64,
   "id": "9df5b5dc-5237-44c4-8f21-30ff807669a8",
   "metadata": {
    "execution": {
     "iopub.execute_input": "2023-08-25T16:23:16.533834Z",
     "iopub.status.busy": "2023-08-25T16:23:16.533083Z",
     "iopub.status.idle": "2023-08-25T16:23:16.543389Z",
     "shell.execute_reply": "2023-08-25T16:23:16.541727Z",
     "shell.execute_reply.started": "2023-08-25T16:23:16.533772Z"
    },
    "tags": []
   },
   "outputs": [],
   "source": [
    "z = df[usecols]"
   ]
  },
  {
   "cell_type": "code",
   "execution_count": 67,
   "id": "a9133448-c51b-4310-811b-c6e8f597e306",
   "metadata": {
    "execution": {
     "iopub.execute_input": "2023-08-25T16:23:39.087010Z",
     "iopub.status.busy": "2023-08-25T16:23:39.086282Z",
     "iopub.status.idle": "2023-08-25T16:23:39.098444Z",
     "shell.execute_reply": "2023-08-25T16:23:39.096508Z",
     "shell.execute_reply.started": "2023-08-25T16:23:39.086947Z"
    },
    "tags": []
   },
   "outputs": [],
   "source": [
    "z.loc[:, 'unique_entities'] = unique_entities"
   ]
  },
  {
   "cell_type": "code",
   "execution_count": 69,
   "id": "da563620-b2b5-4875-ae0d-06dbdfa1a147",
   "metadata": {
    "execution": {
     "iopub.execute_input": "2023-08-25T16:24:00.736822Z",
     "iopub.status.busy": "2023-08-25T16:24:00.735442Z",
     "iopub.status.idle": "2023-08-25T16:24:00.818041Z",
     "shell.execute_reply": "2023-08-25T16:24:00.816971Z",
     "shell.execute_reply.started": "2023-08-25T16:24:00.736732Z"
    },
    "tags": []
   },
   "outputs": [],
   "source": [
    "# z.to_csv('rappler-with-ner.csv')"
   ]
  },
  {
   "cell_type": "code",
   "execution_count": 1,
   "id": "2b42a502-892f-417c-bac6-960ca333cce6",
   "metadata": {
    "execution": {
     "iopub.execute_input": "2023-08-26T21:09:29.140655Z",
     "iopub.status.busy": "2023-08-26T21:09:29.139980Z",
     "iopub.status.idle": "2023-08-26T21:09:29.148115Z",
     "shell.execute_reply": "2023-08-26T21:09:29.146565Z",
     "shell.execute_reply.started": "2023-08-26T21:09:29.140594Z"
    },
    "tags": []
   },
   "outputs": [],
   "source": [
    "# content_list[5]"
   ]
  },
  {
   "cell_type": "code",
   "execution_count": 2,
   "id": "e72b9926-77f2-4a74-9276-06fb0a83f0d7",
   "metadata": {
    "execution": {
     "iopub.execute_input": "2023-08-26T21:09:39.339122Z",
     "iopub.status.busy": "2023-08-26T21:09:39.338452Z",
     "iopub.status.idle": "2023-08-26T21:09:39.345864Z",
     "shell.execute_reply": "2023-08-26T21:09:39.344248Z",
     "shell.execute_reply.started": "2023-08-26T21:09:39.339062Z"
    },
    "tags": []
   },
   "outputs": [],
   "source": [
    "# [x for x in unique_entities if 'Eri']"
   ]
  },
  {
   "cell_type": "code",
   "execution_count": 71,
   "id": "95d6a81e-ebe9-4ce6-a661-9742eb559352",
   "metadata": {
    "execution": {
     "iopub.execute_input": "2023-08-25T16:24:10.515659Z",
     "iopub.status.busy": "2023-08-25T16:24:10.514938Z",
     "iopub.status.idle": "2023-08-25T16:24:10.570083Z",
     "shell.execute_reply": "2023-08-25T16:24:10.569021Z",
     "shell.execute_reply.started": "2023-08-25T16:24:10.515597Z"
    },
    "tags": []
   },
   "outputs": [],
   "source": [
    "# df = pd.read_csv('rappler-with-ner.csv')"
   ]
  }
 ],
 "metadata": {
  "kernelspec": {
   "display_name": "Python 3 (ipykernel)",
   "language": "python",
   "name": "python3"
  },
  "language_info": {
   "codemirror_mode": {
    "name": "ipython",
    "version": 3
   },
   "file_extension": ".py",
   "mimetype": "text/x-python",
   "name": "python",
   "nbconvert_exporter": "python",
   "pygments_lexer": "ipython3",
   "version": "3.10.12"
  }
 },
 "nbformat": 4,
 "nbformat_minor": 5
}
